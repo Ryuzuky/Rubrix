{
 "cells": [
  {
   "cell_type": "code",
   "execution_count": 2,
   "metadata": {},
   "outputs": [
    {
     "name": "stderr",
     "output_type": "stream",
     "text": [
      "2022-09-24 07:54:11.739 | WARNING  | datasets.builder:_create_builder_config:473 - Using custom data configuration rubrix--news-f2af66f102809252\n",
      "2022-09-24 07:54:11.771 | WARNING  | datasets.builder:download_and_prepare:732 - Found cached dataset parquet (C:/Users/ASUS_ROG/.cache/huggingface/datasets/rubrix___parquet/rubrix--news-f2af66f102809252/0.0.0/2a3b91fbd88a2c90d1dbbb32b460cf621d31bd5b05b934492fdef7d8d6f236ec)\n"
     ]
    }
   ],
   "source": [
    "import rubrix as rb\n",
    "from datasets import load_dataset\n",
    "\n",
    "# this replaces the `records = label_model.predict()` line of section 4\n",
    "records = rb.read_datasets(\n",
    "    load_dataset(\"rubrix/news\", split=\"train\"),\n",
    "    task=\"TextClassification\",\n",
    ")"
   ]
  },
  {
   "cell_type": "code",
   "execution_count": 5,
   "metadata": {},
   "outputs": [
    {
     "name": "stderr",
     "output_type": "stream",
     "text": [
      "2022-09-24 07:55:29.126 | WARNING  | datasets.builder:_create_builder_config:473 - Using custom data configuration default\n",
      "2022-09-24 07:55:29.151 | WARNING  | datasets.builder:download_and_prepare:732 - Found cached dataset ag_news (C:/Users/ASUS_ROG/.cache/huggingface/datasets/ag_news/default/0.0.0/bc2bcb40336ace1a0374767fc29bb0296cdaf8a6da7298436239c54d79180548)\n"
     ]
    },
    {
     "data": {
      "application/vnd.jupyter.widget-view+json": {
       "model_id": "ef809f4c366244a28a3f0ed63fefc617",
       "version_major": 2,
       "version_minor": 0
      },
      "text/plain": [
       "  0%|          | 0/2 [00:00<?, ?it/s]"
      ]
     },
     "metadata": {},
     "output_type": "display_data"
    }
   ],
   "source": [
    "from datasets import load_dataset\n",
    "\n",
    "# load our data\n",
    "dataset = load_dataset(\"ag_news\")\n",
    "\n",
    "# get the index to label mapping\n",
    "labels = dataset[\"test\"].features[\"label\"].names"
   ]
  },
  {
   "cell_type": "code",
   "execution_count": 6,
   "metadata": {},
   "outputs": [
    {
     "data": {
      "text/html": [
       "<div>\n",
       "<style scoped>\n",
       "    .dataframe tbody tr th:only-of-type {\n",
       "        vertical-align: middle;\n",
       "    }\n",
       "\n",
       "    .dataframe tbody tr th {\n",
       "        vertical-align: top;\n",
       "    }\n",
       "\n",
       "    .dataframe thead th {\n",
       "        text-align: right;\n",
       "    }\n",
       "</style>\n",
       "<table border=\"1\" class=\"dataframe\">\n",
       "  <thead>\n",
       "    <tr style=\"text-align: right;\">\n",
       "      <th></th>\n",
       "      <th>text</th>\n",
       "      <th>label</th>\n",
       "    </tr>\n",
       "  </thead>\n",
       "  <tbody>\n",
       "    <tr>\n",
       "      <th>0</th>\n",
       "      <td>Fears for T N pension after talks Unions representing workers at Turner   Newall say they are 'disappointed' after talks with stricken parent firm Federal Mogul.</td>\n",
       "      <td>2</td>\n",
       "    </tr>\n",
       "    <tr>\n",
       "      <th>1</th>\n",
       "      <td>The Race is On: Second Private Team Sets Launch Date for Human Spaceflight (SPACE.com) SPACE.com - TORONTO, Canada -- A second\\team of rocketeers competing for the  #36;10 million Ansari X Prize, a contest for\\privately funded suborbital space flight, has officially announced the first\\launch date for its manned rocket.</td>\n",
       "      <td>3</td>\n",
       "    </tr>\n",
       "    <tr>\n",
       "      <th>2</th>\n",
       "      <td>Ky. Company Wins Grant to Study Peptides (AP) AP - A company founded by a chemistry researcher at the University of Louisville won a grant to develop a method of producing better peptides, which are short chains of amino acids, the building blocks of proteins.</td>\n",
       "      <td>3</td>\n",
       "    </tr>\n",
       "    <tr>\n",
       "      <th>3</th>\n",
       "      <td>Prediction Unit Helps Forecast Wildfires (AP) AP - It's barely dawn when Mike Fitzpatrick starts his shift with a blur of colorful maps, figures and endless charts, but already he knows what the day will bring. Lightning will strike in places he expects. Winds will pick up, moist places will dry and flames will roar.</td>\n",
       "      <td>3</td>\n",
       "    </tr>\n",
       "    <tr>\n",
       "      <th>4</th>\n",
       "      <td>Calif. Aims to Limit Farm-Related Smog (AP) AP - Southern California's smog-fighting agency went after emissions of the bovine variety Friday, adopting the nation's first rules to reduce air pollution from dairy cow manure.</td>\n",
       "      <td>3</td>\n",
       "    </tr>\n",
       "  </tbody>\n",
       "</table>\n",
       "</div>"
      ],
      "text/plain": [
       "                                                                                                                                                                                                                                                                                                                                text  \\\n",
       "0                                                                                                                                                                  Fears for T N pension after talks Unions representing workers at Turner   Newall say they are 'disappointed' after talks with stricken parent firm Federal Mogul.   \n",
       "1  The Race is On: Second Private Team Sets Launch Date for Human Spaceflight (SPACE.com) SPACE.com - TORONTO, Canada -- A second\\team of rocketeers competing for the  #36;10 million Ansari X Prize, a contest for\\privately funded suborbital space flight, has officially announced the first\\launch date for its manned rocket.   \n",
       "2                                                               Ky. Company Wins Grant to Study Peptides (AP) AP - A company founded by a chemistry researcher at the University of Louisville won a grant to develop a method of producing better peptides, which are short chains of amino acids, the building blocks of proteins.   \n",
       "3     Prediction Unit Helps Forecast Wildfires (AP) AP - It's barely dawn when Mike Fitzpatrick starts his shift with a blur of colorful maps, figures and endless charts, but already he knows what the day will bring. Lightning will strike in places he expects. Winds will pick up, moist places will dry and flames will roar.   \n",
       "4                                                                                                    Calif. Aims to Limit Farm-Related Smog (AP) AP - Southern California's smog-fighting agency went after emissions of the bovine variety Friday, adopting the nation's first rules to reduce air pollution from dairy cow manure.   \n",
       "\n",
       "   label  \n",
       "0      2  \n",
       "1      3  \n",
       "2      3  \n",
       "3      3  \n",
       "4      3  "
      ]
     },
     "metadata": {},
     "output_type": "display_data"
    }
   ],
   "source": [
    "import pandas as pd\n",
    "\n",
    "# quick look at our data\n",
    "with pd.option_context('display.max_colwidth', None):\n",
    "    display(dataset[\"test\"].to_pandas().head())"
   ]
  },
  {
   "cell_type": "code",
   "execution_count": 8,
   "metadata": {},
   "outputs": [
    {
     "data": {
      "application/vnd.jupyter.widget-view+json": {
       "model_id": "641f4d6c32c24b5a92c4271a4d1a4b51",
       "version_major": 2,
       "version_minor": 0
      },
      "text/plain": [
       "  0%|          | 0/7600 [00:00<?, ?it/s]"
      ]
     },
     "metadata": {},
     "output_type": "display_data"
    },
    {
     "name": "stdout",
     "output_type": "stream",
     "text": [
      "7600 records logged to http://localhost:6900/datasets/rubrix/news\n"
     ]
    },
    {
     "data": {
      "text/plain": [
       "BulkResponse(dataset='news', processed=7600, failed=0)"
      ]
     },
     "execution_count": 8,
     "metadata": {},
     "output_type": "execute_result"
    }
   ],
   "source": [
    "import rubrix as rb\n",
    "\n",
    "# build our test records\n",
    "records = [\n",
    "    rb.TextClassificationRecord(\n",
    "        text=record[\"text\"],\n",
    "        metadata={\"split\": \"test\"},\n",
    "        annotation=labels[record[\"label\"]]\n",
    "    )\n",
    "    for record in dataset[\"test\"]\n",
    "]\n",
    "\n",
    "# log the records to Rubrix\n",
    "rb.log(records, name=\"news\")"
   ]
  },
  {
   "cell_type": "code",
   "execution_count": 41,
   "metadata": {},
   "outputs": [
    {
     "data": {
      "application/vnd.jupyter.widget-view+json": {
       "model_id": "0eab755f6273402e804e3d3fbcf91e17",
       "version_major": 2,
       "version_minor": 0
      },
      "text/plain": [
       "  0%|          | 0/120000 [00:00<?, ?it/s]"
      ]
     },
     "metadata": {},
     "output_type": "display_data"
    },
    {
     "name": "stdout",
     "output_type": "stream",
     "text": [
      "120000 records logged to http://localhost:6900/datasets/rubrix/news\n"
     ]
    },
    {
     "data": {
      "text/plain": [
       "BulkResponse(dataset='news', processed=120000, failed=0)"
      ]
     },
     "execution_count": 41,
     "metadata": {},
     "output_type": "execute_result"
    }
   ],
   "source": [
    "# build our training records without labels\n",
    "records = [\n",
    "    rb.TextClassificationRecord(\n",
    "        text=record[\"text\"],\n",
    "        metadata={\"split\": \"unlabelled\"},\n",
    "    )\n",
    "    for record in dataset[\"train\"]\n",
    "]\n",
    "\n",
    "# log the records to Rubrix\n",
    "rb.log(records, name=\"news\")"
   ]
  },
  {
   "cell_type": "code",
   "execution_count": 42,
   "metadata": {},
   "outputs": [
    {
     "data": {
      "application/vnd.jupyter.widget-view+json": {
       "model_id": "9930e7ef15cf49098f082a6e8cec2582",
       "version_major": 2,
       "version_minor": 0
      },
      "text/plain": [
       "Preparing rules:   0%|          | 0/16 [00:00<?, ?it/s]"
      ]
     },
     "metadata": {},
     "output_type": "display_data"
    },
    {
     "data": {
      "application/vnd.jupyter.widget-view+json": {
       "model_id": "29b6228af1f84cfa9afb7f3d22b21f29",
       "version_major": 2,
       "version_minor": 0
      },
      "text/plain": [
       "Applying rules:   0%|          | 0/127600 [00:00<?, ?it/s]"
      ]
     },
     "metadata": {},
     "output_type": "display_data"
    },
    {
     "data": {
      "text/html": [
       "<div>\n",
       "<style scoped>\n",
       "    .dataframe tbody tr th:only-of-type {\n",
       "        vertical-align: middle;\n",
       "    }\n",
       "\n",
       "    .dataframe tbody tr th {\n",
       "        vertical-align: top;\n",
       "    }\n",
       "\n",
       "    .dataframe thead th {\n",
       "        text-align: right;\n",
       "    }\n",
       "</style>\n",
       "<table border=\"1\" class=\"dataframe\">\n",
       "  <thead>\n",
       "    <tr style=\"text-align: right;\">\n",
       "      <th></th>\n",
       "      <th>label</th>\n",
       "      <th>coverage</th>\n",
       "      <th>annotated_coverage</th>\n",
       "      <th>overlaps</th>\n",
       "      <th>conflicts</th>\n",
       "      <th>correct</th>\n",
       "      <th>incorrect</th>\n",
       "      <th>precision</th>\n",
       "    </tr>\n",
       "  </thead>\n",
       "  <tbody>\n",
       "    <tr>\n",
       "      <th>money</th>\n",
       "      <td>{Business}</td>\n",
       "      <td>0.008268</td>\n",
       "      <td>0.008816</td>\n",
       "      <td>0.002375</td>\n",
       "      <td>0.001857</td>\n",
       "      <td>30</td>\n",
       "      <td>37</td>\n",
       "      <td>0.447761</td>\n",
       "    </tr>\n",
       "    <tr>\n",
       "      <th>dollar*</th>\n",
       "      <td>{Business}</td>\n",
       "      <td>0.016591</td>\n",
       "      <td>0.016316</td>\n",
       "      <td>0.003558</td>\n",
       "      <td>0.002915</td>\n",
       "      <td>87</td>\n",
       "      <td>37</td>\n",
       "      <td>0.701613</td>\n",
       "    </tr>\n",
       "    <tr>\n",
       "      <th>war</th>\n",
       "      <td>{World}</td>\n",
       "      <td>0.015627</td>\n",
       "      <td>0.017105</td>\n",
       "      <td>0.004467</td>\n",
       "      <td>0.001693</td>\n",
       "      <td>101</td>\n",
       "      <td>29</td>\n",
       "      <td>0.776923</td>\n",
       "    </tr>\n",
       "    <tr>\n",
       "      <th>game</th>\n",
       "      <td>{Sports}</td>\n",
       "      <td>0.038738</td>\n",
       "      <td>0.037632</td>\n",
       "      <td>0.011364</td>\n",
       "      <td>0.002406</td>\n",
       "      <td>216</td>\n",
       "      <td>70</td>\n",
       "      <td>0.755245</td>\n",
       "    </tr>\n",
       "    <tr>\n",
       "      <th>play</th>\n",
       "      <td>{Sports}</td>\n",
       "      <td>0.013534</td>\n",
       "      <td>0.012763</td>\n",
       "      <td>0.013534</td>\n",
       "      <td>0.000972</td>\n",
       "      <td>73</td>\n",
       "      <td>24</td>\n",
       "      <td>0.752577</td>\n",
       "    </tr>\n",
       "    <tr>\n",
       "      <th>software</th>\n",
       "      <td>{Sci/Tech}</td>\n",
       "      <td>0.030188</td>\n",
       "      <td>0.029474</td>\n",
       "      <td>0.009843</td>\n",
       "      <td>0.003393</td>\n",
       "      <td>183</td>\n",
       "      <td>41</td>\n",
       "      <td>0.816964</td>\n",
       "    </tr>\n",
       "    <tr>\n",
       "      <th>financ*</th>\n",
       "      <td>{Business}</td>\n",
       "      <td>0.019655</td>\n",
       "      <td>0.017763</td>\n",
       "      <td>0.005737</td>\n",
       "      <td>0.005024</td>\n",
       "      <td>80</td>\n",
       "      <td>55</td>\n",
       "      <td>0.592593</td>\n",
       "    </tr>\n",
       "    <tr>\n",
       "      <th>gov*</th>\n",
       "      <td>{World}</td>\n",
       "      <td>0.045086</td>\n",
       "      <td>0.045263</td>\n",
       "      <td>0.010987</td>\n",
       "      <td>0.006003</td>\n",
       "      <td>170</td>\n",
       "      <td>174</td>\n",
       "      <td>0.494186</td>\n",
       "    </tr>\n",
       "    <tr>\n",
       "      <th>minister*</th>\n",
       "      <td>{World}</td>\n",
       "      <td>0.030031</td>\n",
       "      <td>0.028289</td>\n",
       "      <td>0.007829</td>\n",
       "      <td>0.002727</td>\n",
       "      <td>193</td>\n",
       "      <td>22</td>\n",
       "      <td>0.897674</td>\n",
       "    </tr>\n",
       "    <tr>\n",
       "      <th>conflict*</th>\n",
       "      <td>{World}</td>\n",
       "      <td>0.003824</td>\n",
       "      <td>0.003684</td>\n",
       "      <td>0.001356</td>\n",
       "      <td>0.000235</td>\n",
       "      <td>22</td>\n",
       "      <td>6</td>\n",
       "      <td>0.785714</td>\n",
       "    </tr>\n",
       "    <tr>\n",
       "      <th>football*</th>\n",
       "      <td>{Sports}</td>\n",
       "      <td>0.013158</td>\n",
       "      <td>0.015000</td>\n",
       "      <td>0.004342</td>\n",
       "      <td>0.000455</td>\n",
       "      <td>107</td>\n",
       "      <td>7</td>\n",
       "      <td>0.938596</td>\n",
       "    </tr>\n",
       "    <tr>\n",
       "      <th>play*</th>\n",
       "      <td>{Sports}</td>\n",
       "      <td>0.052453</td>\n",
       "      <td>0.050000</td>\n",
       "      <td>0.024781</td>\n",
       "      <td>0.005219</td>\n",
       "      <td>268</td>\n",
       "      <td>112</td>\n",
       "      <td>0.705263</td>\n",
       "    </tr>\n",
       "    <tr>\n",
       "      <th>techno*</th>\n",
       "      <td>{Sci/Tech}</td>\n",
       "      <td>0.027210</td>\n",
       "      <td>0.028289</td>\n",
       "      <td>0.008472</td>\n",
       "      <td>0.003135</td>\n",
       "      <td>155</td>\n",
       "      <td>60</td>\n",
       "      <td>0.720930</td>\n",
       "    </tr>\n",
       "    <tr>\n",
       "      <th>sci*</th>\n",
       "      <td>{Sci/Tech}</td>\n",
       "      <td>0.016552</td>\n",
       "      <td>0.018421</td>\n",
       "      <td>0.002735</td>\n",
       "      <td>0.001285</td>\n",
       "      <td>114</td>\n",
       "      <td>26</td>\n",
       "      <td>0.814286</td>\n",
       "    </tr>\n",
       "    <tr>\n",
       "      <th>web</th>\n",
       "      <td>{Sci/Tech}</td>\n",
       "      <td>0.017132</td>\n",
       "      <td>0.014737</td>\n",
       "      <td>0.004538</td>\n",
       "      <td>0.001755</td>\n",
       "      <td>87</td>\n",
       "      <td>25</td>\n",
       "      <td>0.776786</td>\n",
       "    </tr>\n",
       "    <tr>\n",
       "      <th>computer*</th>\n",
       "      <td>{Sci/Tech}</td>\n",
       "      <td>0.027586</td>\n",
       "      <td>0.028158</td>\n",
       "      <td>0.011262</td>\n",
       "      <td>0.004498</td>\n",
       "      <td>159</td>\n",
       "      <td>55</td>\n",
       "      <td>0.742991</td>\n",
       "    </tr>\n",
       "    <tr>\n",
       "      <th>total</th>\n",
       "      <td>{Sci/Tech, Business, World, Sports}</td>\n",
       "      <td>0.307351</td>\n",
       "      <td>0.301447</td>\n",
       "      <td>0.058895</td>\n",
       "      <td>0.019185</td>\n",
       "      <td>2045</td>\n",
       "      <td>780</td>\n",
       "      <td>0.723894</td>\n",
       "    </tr>\n",
       "  </tbody>\n",
       "</table>\n",
       "</div>"
      ],
      "text/plain": [
       "                                         label  coverage  annotated_coverage  \\\n",
       "money                               {Business}  0.008268            0.008816   \n",
       "dollar*                             {Business}  0.016591            0.016316   \n",
       "war                                    {World}  0.015627            0.017105   \n",
       "game                                  {Sports}  0.038738            0.037632   \n",
       "play                                  {Sports}  0.013534            0.012763   \n",
       "software                            {Sci/Tech}  0.030188            0.029474   \n",
       "financ*                             {Business}  0.019655            0.017763   \n",
       "gov*                                   {World}  0.045086            0.045263   \n",
       "minister*                              {World}  0.030031            0.028289   \n",
       "conflict*                              {World}  0.003824            0.003684   \n",
       "football*                             {Sports}  0.013158            0.015000   \n",
       "play*                                 {Sports}  0.052453            0.050000   \n",
       "techno*                             {Sci/Tech}  0.027210            0.028289   \n",
       "sci*                                {Sci/Tech}  0.016552            0.018421   \n",
       "web                                 {Sci/Tech}  0.017132            0.014737   \n",
       "computer*                           {Sci/Tech}  0.027586            0.028158   \n",
       "total      {Sci/Tech, Business, World, Sports}  0.307351            0.301447   \n",
       "\n",
       "           overlaps  conflicts  correct  incorrect  precision  \n",
       "money      0.002375   0.001857       30         37   0.447761  \n",
       "dollar*    0.003558   0.002915       87         37   0.701613  \n",
       "war        0.004467   0.001693      101         29   0.776923  \n",
       "game       0.011364   0.002406      216         70   0.755245  \n",
       "play       0.013534   0.000972       73         24   0.752577  \n",
       "software   0.009843   0.003393      183         41   0.816964  \n",
       "financ*    0.005737   0.005024       80         55   0.592593  \n",
       "gov*       0.010987   0.006003      170        174   0.494186  \n",
       "minister*  0.007829   0.002727      193         22   0.897674  \n",
       "conflict*  0.001356   0.000235       22          6   0.785714  \n",
       "football*  0.004342   0.000455      107          7   0.938596  \n",
       "play*      0.024781   0.005219      268        112   0.705263  \n",
       "techno*    0.008472   0.003135      155         60   0.720930  \n",
       "sci*       0.002735   0.001285      114         26   0.814286  \n",
       "web        0.004538   0.001755       87         25   0.776786  \n",
       "computer*  0.011262   0.004498      159         55   0.742991  \n",
       "total      0.058895   0.019185     2045        780   0.723894  "
      ]
     },
     "execution_count": 42,
     "metadata": {},
     "output_type": "execute_result"
    }
   ],
   "source": [
    "from rubrix.labeling.text_classification import WeakLabels\n",
    "\n",
    "weak_labels = WeakLabels(dataset=\"news\")\n",
    "weak_labels.summary()"
   ]
  },
  {
   "cell_type": "code",
   "execution_count": 49,
   "metadata": {},
   "outputs": [
    {
     "name": "stderr",
     "output_type": "stream",
     "text": [
      "100%|██████████| 100/100 [00:00<00:00, 769.24epoch/s]"
     ]
    },
    {
     "name": "stdout",
     "output_type": "stream",
     "text": [
      "              precision    recall  f1-score   support\n",
      "\n",
      "    Sci/Tech       0.78      0.76      0.77       778\n",
      "       World       0.69      0.81      0.75       523\n",
      "    Business       0.66      0.36      0.46       447\n",
      "      Sports       0.76      0.95      0.84       543\n",
      "\n",
      "    accuracy                           0.74      2291\n",
      "   macro avg       0.72      0.72      0.71      2291\n",
      "weighted avg       0.73      0.74      0.72      2291\n",
      "\n"
     ]
    },
    {
     "name": "stderr",
     "output_type": "stream",
     "text": [
      "\n"
     ]
    }
   ],
   "source": [
    "from rubrix.labeling.text_classification import Snorkel\n",
    "\n",
    "# create the label model\n",
    "label_model = Snorkel(weak_labels)\n",
    "\n",
    "# fit the model\n",
    "label_model.fit()\n",
    "print(label_model.score(output_str=True))"
   ]
  },
  {
   "cell_type": "code",
   "execution_count": 44,
   "metadata": {},
   "outputs": [],
   "source": [
    "import pandas as pd\n",
    "\n",
    "# get records with the predictions from the label model\n",
    "records = label_model.predict()\n",
    "# you can replace this line with\n",
    "# records = rb.read_datasets(\n",
    "#    load_dataset(\"rubrix/news\", split=\"train\"),\n",
    "#    task=\"TextClassification\",\n",
    "# )\n",
    "\n",
    "# we could also use the `weak_labels.label2int` dict\n",
    "label2int = {'Sports': 0, 'Sci/Tech': 1, 'World': 2, 'Business': 3}\n",
    "\n",
    "# extract training data\n",
    "X_train = [rec.text for rec in records]\n",
    "y_train = [label2int[rec.prediction[0][0]] for rec in records]"
   ]
  },
  {
   "cell_type": "code",
   "execution_count": 45,
   "metadata": {},
   "outputs": [
    {
     "data": {
      "text/html": [
       "<div>\n",
       "<style scoped>\n",
       "    .dataframe tbody tr th:only-of-type {\n",
       "        vertical-align: middle;\n",
       "    }\n",
       "\n",
       "    .dataframe tbody tr th {\n",
       "        vertical-align: top;\n",
       "    }\n",
       "\n",
       "    .dataframe thead th {\n",
       "        text-align: right;\n",
       "    }\n",
       "</style>\n",
       "<table border=\"1\" class=\"dataframe\">\n",
       "  <thead>\n",
       "    <tr style=\"text-align: right;\">\n",
       "      <th></th>\n",
       "      <th>text</th>\n",
       "      <th>label</th>\n",
       "    </tr>\n",
       "  </thead>\n",
       "  <tbody>\n",
       "    <tr>\n",
       "      <th>0</th>\n",
       "      <td>Boston Scientific Outlook Trails Views Boston Scientific Corp. (BSX.N: Quote, Profile, Research) , whose Taxus heart device has been involved in a major recall, said on Wednesday preliminary August sales of the device slowed</td>\n",
       "      <td>1</td>\n",
       "    </tr>\n",
       "    <tr>\n",
       "      <th>1</th>\n",
       "      <td>India ready to consider Musharraf's proposals if made formally (AFP) AFP - India is ready to consider Pakistani President Pervez Musharraf's new proposals on disputed Kashmir if they are made formally through diplomatic channels, Foreign Minister Natwar Singh said.</td>\n",
       "      <td>2</td>\n",
       "    </tr>\n",
       "    <tr>\n",
       "      <th>2</th>\n",
       "      <td>Jobless Claims Drop More Than Expected  WASHINGTON (Reuters) - The number of people filing an  initial claim for U.S. jobless aid fell by a  larger-than-expected 25,000 last week, the government said on  Thursday in a report seen as a good sign for job growth.</td>\n",
       "      <td>2</td>\n",
       "    </tr>\n",
       "    <tr>\n",
       "      <th>3</th>\n",
       "      <td>YUKOS Cuts China Supplies, Oil Above \\$46  NEW YORK (Reuters) - Oil prices broke above \\$46 on Monday  after Russian oil giant YUKOS said it would cut some oil  shipments to China, the first toll on exports from the  company's financial turmoil.</td>\n",
       "      <td>3</td>\n",
       "    </tr>\n",
       "    <tr>\n",
       "      <th>4</th>\n",
       "      <td>Britain, Ireland push for Northern Ireland deal At a fairytale English castle, the prime ministers of Britain and Ireland will this week attempt to broker an unlikely marriage of convenience between the two extremes of Northern Irish politics.</td>\n",
       "      <td>2</td>\n",
       "    </tr>\n",
       "    <tr>\n",
       "      <th>...</th>\n",
       "      <td>...</td>\n",
       "      <td>...</td>\n",
       "    </tr>\n",
       "    <tr>\n",
       "      <th>36922</th>\n",
       "      <td>Joke e-mail virus tricks users A new version of the Bagle computer virus is spreading rapidly around the internet.</td>\n",
       "      <td>1</td>\n",
       "    </tr>\n",
       "    <tr>\n",
       "      <th>36923</th>\n",
       "      <td>KPMG to Pay \\$10M to Settle SEC Charges Accounting giant KMPG LLP will pay \\$10 million to settle Securities and Exchange Commission charges of improper conduct in the firm #39;s audit of the financial statements of Gemstar-TV Guide International Inc.</td>\n",
       "      <td>3</td>\n",
       "    </tr>\n",
       "    <tr>\n",
       "      <th>36924</th>\n",
       "      <td>Iraq Leader Says Violence Won't Stop Vote BAGHDAD, Iraq - The Iraqi prime minister insisted Sunday that the raging insurgency - which has claimed 300 lives in the last week alone and resulted in a wave of kidnappings - will not delay January elections, promising the vote will strike a \"major blow\" against the violent opposition.    Meanwhile, a grisly videotape posted on a Web site showed the beheading of three hostages believed to be Iraqi Kurds accused by militants of cooperating with U.S...</td>\n",
       "      <td>2</td>\n",
       "    </tr>\n",
       "    <tr>\n",
       "      <th>36925</th>\n",
       "      <td>Give handball a sporting chance ATHENS -- I saw a game that featured, with only the slightest expansion of our basic concepts, fast breaks, fouled in the act of shooting, sneakaways, pivotmen, turnovers, weaves, give-and-gos, lookaway passes, backward bounce passes, skip passes, a penalty shot, a backdoor play, and great shot blocking worthy of a Russell or a Roy.</td>\n",
       "      <td>0</td>\n",
       "    </tr>\n",
       "    <tr>\n",
       "      <th>36926</th>\n",
       "      <td>Berlin marks anniversary of Wall #39;s fall Subdued observations were held in Berlin Tuesday to mark the 15th anniversary of the tearing down of the Cold War-era Berlin Wall.</td>\n",
       "      <td>2</td>\n",
       "    </tr>\n",
       "  </tbody>\n",
       "</table>\n",
       "<p>36927 rows × 2 columns</p>\n",
       "</div>"
      ],
      "text/plain": [
       "                                                                                                                                                                                                                                                                                                                                                                                                                                                                                                                     text  \\\n",
       "0                                                                                                                                                                                                                                                                                       Boston Scientific Outlook Trails Views Boston Scientific Corp. (BSX.N: Quote, Profile, Research) , whose Taxus heart device has been involved in a major recall, said on Wednesday preliminary August sales of the device slowed    \n",
       "1                                                                                                                                                                                                                                               India ready to consider Musharraf's proposals if made formally (AFP) AFP - India is ready to consider Pakistani President Pervez Musharraf's new proposals on disputed Kashmir if they are made formally through diplomatic channels, Foreign Minister Natwar Singh said.   \n",
       "2                                                                                                                                                                                                                                                    Jobless Claims Drop More Than Expected  WASHINGTON (Reuters) - The number of people filing an  initial claim for U.S. jobless aid fell by a  larger-than-expected 25,000 last week, the government said on  Thursday in a report seen as a good sign for job growth.   \n",
       "3                                                                                                                                                                                                                                                                   YUKOS Cuts China Supplies, Oil Above \\$46  NEW YORK (Reuters) - Oil prices broke above \\$46 on Monday  after Russian oil giant YUKOS said it would cut some oil  shipments to China, the first toll on exports from the  company's financial turmoil.   \n",
       "4                                                                                                                                                                                                                                                                     Britain, Ireland push for Northern Ireland deal At a fairytale English castle, the prime ministers of Britain and Ireland will this week attempt to broker an unlikely marriage of convenience between the two extremes of Northern Irish politics.   \n",
       "...                                                                                                                                                                                                                                                                                                                                                                                                                                                                                                                   ...   \n",
       "36922                                                                                                                                                                                                                                                                                                                                                                                                  Joke e-mail virus tricks users A new version of the Bagle computer virus is spreading rapidly around the internet.   \n",
       "36923                                                                                                                                                                                                                                                         KPMG to Pay \\$10M to Settle SEC Charges Accounting giant KMPG LLP will pay \\$10 million to settle Securities and Exchange Commission charges of improper conduct in the firm #39;s audit of the financial statements of Gemstar-TV Guide International Inc.   \n",
       "36924  Iraq Leader Says Violence Won't Stop Vote BAGHDAD, Iraq - The Iraqi prime minister insisted Sunday that the raging insurgency - which has claimed 300 lives in the last week alone and resulted in a wave of kidnappings - will not delay January elections, promising the vote will strike a \"major blow\" against the violent opposition.    Meanwhile, a grisly videotape posted on a Web site showed the beheading of three hostages believed to be Iraqi Kurds accused by militants of cooperating with U.S...   \n",
       "36925                                                                                                                                      Give handball a sporting chance ATHENS -- I saw a game that featured, with only the slightest expansion of our basic concepts, fast breaks, fouled in the act of shooting, sneakaways, pivotmen, turnovers, weaves, give-and-gos, lookaway passes, backward bounce passes, skip passes, a penalty shot, a backdoor play, and great shot blocking worthy of a Russell or a Roy.   \n",
       "36926                                                                                                                                                                                                                                                                                                                                      Berlin marks anniversary of Wall #39;s fall Subdued observations were held in Berlin Tuesday to mark the 15th anniversary of the tearing down of the Cold War-era Berlin Wall.   \n",
       "\n",
       "       label  \n",
       "0          1  \n",
       "1          2  \n",
       "2          2  \n",
       "3          3  \n",
       "4          2  \n",
       "...      ...  \n",
       "36922      1  \n",
       "36923      3  \n",
       "36924      2  \n",
       "36925      0  \n",
       "36926      2  \n",
       "\n",
       "[36927 rows x 2 columns]"
      ]
     },
     "metadata": {},
     "output_type": "display_data"
    }
   ],
   "source": [
    "# quick look at our training data with the weak labels from our label model\n",
    "with pd.option_context('display.max_colwidth', None):\n",
    "    display(pd.DataFrame({\"text\": X_train, \"label\": y_train}))"
   ]
  },
  {
   "cell_type": "code",
   "execution_count": 46,
   "metadata": {},
   "outputs": [
    {
     "data": {
      "text/html": [
       "<style>#sk-container-id-1 {color: black;background-color: white;}#sk-container-id-1 pre{padding: 0;}#sk-container-id-1 div.sk-toggleable {background-color: white;}#sk-container-id-1 label.sk-toggleable__label {cursor: pointer;display: block;width: 100%;margin-bottom: 0;padding: 0.3em;box-sizing: border-box;text-align: center;}#sk-container-id-1 label.sk-toggleable__label-arrow:before {content: \"▸\";float: left;margin-right: 0.25em;color: #696969;}#sk-container-id-1 label.sk-toggleable__label-arrow:hover:before {color: black;}#sk-container-id-1 div.sk-estimator:hover label.sk-toggleable__label-arrow:before {color: black;}#sk-container-id-1 div.sk-toggleable__content {max-height: 0;max-width: 0;overflow: hidden;text-align: left;background-color: #f0f8ff;}#sk-container-id-1 div.sk-toggleable__content pre {margin: 0.2em;color: black;border-radius: 0.25em;background-color: #f0f8ff;}#sk-container-id-1 input.sk-toggleable__control:checked~div.sk-toggleable__content {max-height: 200px;max-width: 100%;overflow: auto;}#sk-container-id-1 input.sk-toggleable__control:checked~label.sk-toggleable__label-arrow:before {content: \"▾\";}#sk-container-id-1 div.sk-estimator input.sk-toggleable__control:checked~label.sk-toggleable__label {background-color: #d4ebff;}#sk-container-id-1 div.sk-label input.sk-toggleable__control:checked~label.sk-toggleable__label {background-color: #d4ebff;}#sk-container-id-1 input.sk-hidden--visually {border: 0;clip: rect(1px 1px 1px 1px);clip: rect(1px, 1px, 1px, 1px);height: 1px;margin: -1px;overflow: hidden;padding: 0;position: absolute;width: 1px;}#sk-container-id-1 div.sk-estimator {font-family: monospace;background-color: #f0f8ff;border: 1px dotted black;border-radius: 0.25em;box-sizing: border-box;margin-bottom: 0.5em;}#sk-container-id-1 div.sk-estimator:hover {background-color: #d4ebff;}#sk-container-id-1 div.sk-parallel-item::after {content: \"\";width: 100%;border-bottom: 1px solid gray;flex-grow: 1;}#sk-container-id-1 div.sk-label:hover label.sk-toggleable__label {background-color: #d4ebff;}#sk-container-id-1 div.sk-serial::before {content: \"\";position: absolute;border-left: 1px solid gray;box-sizing: border-box;top: 0;bottom: 0;left: 50%;z-index: 0;}#sk-container-id-1 div.sk-serial {display: flex;flex-direction: column;align-items: center;background-color: white;padding-right: 0.2em;padding-left: 0.2em;position: relative;}#sk-container-id-1 div.sk-item {position: relative;z-index: 1;}#sk-container-id-1 div.sk-parallel {display: flex;align-items: stretch;justify-content: center;background-color: white;position: relative;}#sk-container-id-1 div.sk-item::before, #sk-container-id-1 div.sk-parallel-item::before {content: \"\";position: absolute;border-left: 1px solid gray;box-sizing: border-box;top: 0;bottom: 0;left: 50%;z-index: -1;}#sk-container-id-1 div.sk-parallel-item {display: flex;flex-direction: column;z-index: 1;position: relative;background-color: white;}#sk-container-id-1 div.sk-parallel-item:first-child::after {align-self: flex-end;width: 50%;}#sk-container-id-1 div.sk-parallel-item:last-child::after {align-self: flex-start;width: 50%;}#sk-container-id-1 div.sk-parallel-item:only-child::after {width: 0;}#sk-container-id-1 div.sk-dashed-wrapped {border: 1px dashed gray;margin: 0 0.4em 0.5em 0.4em;box-sizing: border-box;padding-bottom: 0.4em;background-color: white;}#sk-container-id-1 div.sk-label label {font-family: monospace;font-weight: bold;display: inline-block;line-height: 1.2em;}#sk-container-id-1 div.sk-label-container {text-align: center;}#sk-container-id-1 div.sk-container {/* jupyter's `normalize.less` sets `[hidden] { display: none; }` but bootstrap.min.css set `[hidden] { display: none !important; }` so we also need the `!important` here to be able to override the default hidden behavior on the sphinx rendered scikit-learn.org. See: https://github.com/scikit-learn/scikit-learn/issues/21755 */display: inline-block !important;position: relative;}#sk-container-id-1 div.sk-text-repr-fallback {display: none;}</style><div id=\"sk-container-id-1\" class=\"sk-top-container\"><div class=\"sk-text-repr-fallback\"><pre>Pipeline(steps=[(&#x27;vect&#x27;, CountVectorizer()), (&#x27;clf&#x27;, MultinomialNB())])</pre><b>In a Jupyter environment, please rerun this cell to show the HTML representation or trust the notebook. <br />On GitHub, the HTML representation is unable to render, please try loading this page with nbviewer.org.</b></div><div class=\"sk-container\" hidden><div class=\"sk-item sk-dashed-wrapped\"><div class=\"sk-label-container\"><div class=\"sk-label sk-toggleable\"><input class=\"sk-toggleable__control sk-hidden--visually\" id=\"sk-estimator-id-1\" type=\"checkbox\" ><label for=\"sk-estimator-id-1\" class=\"sk-toggleable__label sk-toggleable__label-arrow\">Pipeline</label><div class=\"sk-toggleable__content\"><pre>Pipeline(steps=[(&#x27;vect&#x27;, CountVectorizer()), (&#x27;clf&#x27;, MultinomialNB())])</pre></div></div></div><div class=\"sk-serial\"><div class=\"sk-item\"><div class=\"sk-estimator sk-toggleable\"><input class=\"sk-toggleable__control sk-hidden--visually\" id=\"sk-estimator-id-2\" type=\"checkbox\" ><label for=\"sk-estimator-id-2\" class=\"sk-toggleable__label sk-toggleable__label-arrow\">CountVectorizer</label><div class=\"sk-toggleable__content\"><pre>CountVectorizer()</pre></div></div></div><div class=\"sk-item\"><div class=\"sk-estimator sk-toggleable\"><input class=\"sk-toggleable__control sk-hidden--visually\" id=\"sk-estimator-id-3\" type=\"checkbox\" ><label for=\"sk-estimator-id-3\" class=\"sk-toggleable__label sk-toggleable__label-arrow\">MultinomialNB</label><div class=\"sk-toggleable__content\"><pre>MultinomialNB()</pre></div></div></div></div></div></div></div>"
      ],
      "text/plain": [
       "Pipeline(steps=[('vect', CountVectorizer()), ('clf', MultinomialNB())])"
      ]
     },
     "execution_count": 46,
     "metadata": {},
     "output_type": "execute_result"
    }
   ],
   "source": [
    "from sklearn.feature_extraction.text import TfidfTransformer, CountVectorizer\n",
    "from sklearn.naive_bayes import MultinomialNB\n",
    "from sklearn.pipeline import Pipeline\n",
    "\n",
    "# define our final classifier\n",
    "classifier = Pipeline([\n",
    "    ('vect', CountVectorizer()),\n",
    "    ('clf', MultinomialNB())\n",
    "])\n",
    "\n",
    "# fit the classifier\n",
    "classifier.fit(\n",
    "    X=X_train,\n",
    "    y=y_train,\n",
    ")"
   ]
  },
  {
   "cell_type": "code",
   "execution_count": 47,
   "metadata": {},
   "outputs": [
    {
     "name": "stdout",
     "output_type": "stream",
     "text": [
      "Test accuracy: 0.8115789473684211\n"
     ]
    }
   ],
   "source": [
    "# retrieve records with annotations\n",
    "test_ds = weak_labels.records(has_annotation=True)\n",
    "# you can replace this line with\n",
    "# test_ds = rb.read_datasets(\n",
    "#    load_dataset(\"rubrix/news_test\", split=\"train\"),\n",
    "#    task=\"TextClassification\",\n",
    "# )\n",
    "\n",
    "# extract text and labels\n",
    "X_test = [rec.text for rec in test_ds]\n",
    "y_test = [label2int[rec.annotation] for rec in test_ds]\n",
    "# compute the test accuracy\n",
    "accuracy = classifier.score(\n",
    "    X=X_test,\n",
    "    y=y_test,\n",
    ")\n",
    "\n",
    "print(f\"Test accuracy: {accuracy}\")"
   ]
  },
  {
   "cell_type": "code",
   "execution_count": 48,
   "metadata": {},
   "outputs": [
    {
     "name": "stdout",
     "output_type": "stream",
     "text": [
      "              precision    recall  f1-score   support\n",
      "\n",
      "      Sports       0.86      0.96      0.91      1900\n",
      "    Sci/Tech       0.76      0.83      0.79      1900\n",
      "       World       0.78      0.89      0.83      1900\n",
      "    Business       0.88      0.56      0.69      1900\n",
      "\n",
      "    accuracy                           0.81      7600\n",
      "   macro avg       0.82      0.81      0.80      7600\n",
      "weighted avg       0.82      0.81      0.80      7600\n",
      "\n"
     ]
    }
   ],
   "source": [
    "from sklearn import metrics\n",
    "\n",
    "# get predictions for the test set\n",
    "predicted = classifier.predict(X_test)\n",
    "\n",
    "print(metrics.classification_report(y_test, predicted, target_names=label2int.keys()))"
   ]
  }
 ],
 "metadata": {
  "kernelspec": {
   "display_name": "Python 3.9.10 64-bit",
   "language": "python",
   "name": "python3"
  },
  "language_info": {
   "codemirror_mode": {
    "name": "ipython",
    "version": 3
   },
   "file_extension": ".py",
   "mimetype": "text/x-python",
   "name": "python",
   "nbconvert_exporter": "python",
   "pygments_lexer": "ipython3",
   "version": "3.9.10"
  },
  "orig_nbformat": 4,
  "vscode": {
   "interpreter": {
    "hash": "7afd7ef0df05bfc59c185e1ea2df6057c424c99b8480e47cf5c3dfa731b3c3f6"
   }
  }
 },
 "nbformat": 4,
 "nbformat_minor": 2
}
